{
 "metadata": {
  "name": "",
  "signature": "sha256:876e5b1f9584a0d37e60ecdcb5937104df064e9e970cb4a2ce85f7aee7a16860"
 },
 "nbformat": 3,
 "nbformat_minor": 0,
 "worksheets": [
  {
   "cells": [
    {
     "cell_type": "markdown",
     "metadata": {},
     "source": [
      "## 1. Main Script for Running Beyond Stacking Code"
     ]
    },
    {
     "cell_type": "code",
     "collapsed": false,
     "input": [
      "import pyfits\n",
      "import numpy as np"
     ],
     "language": "python",
     "metadata": {},
     "outputs": [],
     "prompt_number": 14
    },
    {
     "cell_type": "code",
     "collapsed": false,
     "input": [
      "dir_cat='/data/maps_cats_models/catalogs/UVISTA/'\n",
      "file_cat='UVISTA_final_v4.1_zCOSMOS_zEAZY_MASS_AND_REDSHIFT_AND_RFCOLORS_ONLY.fits'\n",
      "import os.path\n",
      "os.path.exists(dir_cat+file_cat)"
     ],
     "language": "python",
     "metadata": {},
     "outputs": [
      {
       "metadata": {},
       "output_type": "pyout",
       "prompt_number": 19,
       "text": [
        "True"
       ]
      }
     ],
     "prompt_number": 19
    },
    {
     "cell_type": "code",
     "collapsed": false,
     "input": [
      "pyfits.info(dir_cat+file_cat)"
     ],
     "language": "python",
     "metadata": {},
     "outputs": [
      {
       "output_type": "stream",
       "stream": "stdout",
       "text": [
        "Filename: /data/maps_cats_models/catalogs/UVISTA/UVISTA_final_v4.1_zCOSMOS_zEAZY_MASS_AND_REDSHIFT_AND_RFCOLORS_ONLY.fits\n",
        "No.    Name         Type      Cards   Dimensions   Format\n",
        "0    PRIMARY     PrimaryHDU      16   (576,)       uint8   \n",
        "1    /Users/marco/maps_cats_models/catalogs/UVISTA/UVISTA_final_v4.1_z...  BinTableHDU     20   166641R x 4C   [E, D, D, E]   \n"
       ]
      }
     ],
     "prompt_number": 15
    },
    {
     "cell_type": "code",
     "collapsed": false,
     "input": [
      "cat = pyfits.getdata(dir_cat+file_cat);"
     ],
     "language": "python",
     "metadata": {},
     "outputs": [],
     "prompt_number": 16
    },
    {
     "cell_type": "code",
     "collapsed": false,
     "input": [
      "cat?"
     ],
     "language": "python",
     "metadata": {},
     "outputs": [],
     "prompt_number": 13
    },
    {
     "cell_type": "code",
     "collapsed": false,
     "input": [],
     "language": "python",
     "metadata": {},
     "outputs": []
    }
   ],
   "metadata": {}
  }
 ]
}